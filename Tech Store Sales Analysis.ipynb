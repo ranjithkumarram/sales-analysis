{
 "cells": [
  {
   "cell_type": "markdown",
   "metadata": {},
   "source": [
    "# Tech Store Sales Analysis",
    "",
    "**Created by:** Ranjith kumar Ramasamy",
    "",
    "**Purpose:** Education Purpose",
    "",
    "---"
   ]
  },
  {
   "cell_type": "markdown",
   "metadata": {},
   "source": [
    "## Importing Necessary Libraries"
   ]
  },
  {
   "cell_type": "code",
   "execution_count": null,
   "metadata": {},
   "outputs": [],
   "source": [
    "import os",
    "",
    "import pandas as pd",
    "",
    "import matplotlib.pyplot as plt"
   ]
  },
  {
   "cell_type": "markdown",
   "metadata": {},
   "source": [
    "#### Merging the data from each month into on file"
   ]
  },
  {
   "cell_type": "code",
   "execution_count": null,
   "metadata": {},
   "outputs": [],
   "source": [
    "path = r\"C:\\Users\\parri\\Downloads\\SalesData\"",
    "",
    "files = [file for file in os.listdir(path) if not file.startswith('.')] # Ignore hidden files",
    "",
    "",
    "",
    "all_months_data = pd.DataFrame()",
    "",
    "",
    "",
    "for file in files:",
    "",
    "    current_data = pd.read_csv(path+\"/\"+file)",
    "",
    "    all_months_data = pd.concat([all_months_data, current_data])",
    "",
    "    ",
    "",
    "all_months_data.to_csv(\"all_data.csv\", index=False)"
   ]
  },
  {
   "cell_type": "markdown",
   "metadata": {},
   "source": [
    "#### Reading in updated dataframe"
   ]
  },
  {
   "cell_type": "code",
   "execution_count": null,
   "metadata": {},
   "outputs": [],
   "source": [
    "all_data = pd.read_csv(\"all_data.csv\")",
    "",
    "all_data.head()"
   ]
  },
  {
   "cell_type": "markdown",
   "metadata": {},
   "source": [
    "## Cleaning up the data"
   ]
  },
  {
   "cell_type": "markdown",
   "metadata": {},
   "source": [
    "# Finding and dropping rows with NaN"
   ]
  },
  {
   "cell_type": "code",
   "execution_count": null,
   "metadata": {},
   "outputs": [],
   "source": [
    "",
    "",
    "",
    "nan_df = all_data[all_data.isna().any(axis=1)]",
    "",
    "display(nan_df.head())",
    "",
    "",
    "",
    "",
    "all_data = all_data.dropna(how='all')",
    "",
    "all_data.head()"
   ]
  },
  {
   "cell_type": "markdown",
   "metadata": {},
   "source": [
    "# Checking if the NaN were succesffully dropped"
   ]
  },
  {
   "cell_type": "code",
   "execution_count": null,
   "metadata": {},
   "outputs": [],
   "source": [
    "",
    "",
    "",
    "nan_df = all_data[all_data.isna().any(axis=1)]",
    "",
    "display(nan_df.head())"
   ]
  },
  {
   "cell_type": "markdown",
   "metadata": {},
   "source": [
    "# Removing text in order date column"
   ]
  },
  {
   "cell_type": "code",
   "execution_count": null,
   "metadata": {},
   "outputs": [],
   "source": [
    "",
    "",
    "",
    "all_data = all_data[all_data['Order Date'].str[0:2]!='Or']"
   ]
  },
  {
   "cell_type": "markdown",
   "metadata": {},
   "source": [
    "# Converting columns to the correct type"
   ]
  },
  {
   "cell_type": "code",
   "execution_count": null,
   "metadata": {},
   "outputs": [],
   "source": [
    "",
    "",
    "",
    "all_data['Quantity Ordered'] = pd.to_numeric(all_data['Quantity Ordered'])",
    "",
    "all_data['Price Each'] = pd.to_numeric(all_data['Price Each'])"
   ]
  },
  {
   "cell_type": "markdown",
   "metadata": {},
   "source": [
    "#### Augmenting data with additional columns"
   ]
  },
  {
   "cell_type": "markdown",
   "metadata": {},
   "source": [
    "# Adding month column"
   ]
  },
  {
   "cell_type": "code",
   "execution_count": null,
   "metadata": {},
   "outputs": [],
   "source": [
    "",
    "",
    "",
    "all_data['Month'] = all_data['Order Date'].str[0:2]",
    "all_data['Month'] = all_data['Month'].astype('int32')",
    "",
    "",
    "",
    "all_data.head()"
   ]
  },
  {
   "cell_type": "markdown",
   "metadata": {},
   "source": [
    "# Adding city column"
   ]
  },
  {
   "cell_type": "code",
   "execution_count": null,
   "metadata": {},
   "outputs": [],
   "source": [
    "",
    "",
    "",
    "def get_city(address):",
    "",
    "    return address.split(\",\")[1].strip(\" \")",
    "",
    "",
    "",
    "",
    "def get_state(address):",
    "",
    "    return address.split(\",\")[2].split(\" \")[1]",
    "",
    "",
    "",
    "",
    "all_data['City'] = all_data['Purchase Address'].apply(lambda x: f\"{get_city(x)}  ({get_state(x)})\")",
    "",
    "all_data.head()"
   ]
  },
  {
   "cell_type": "markdown",
   "metadata": {},
   "source": [
    "## Data Exploration!",
    "### What was the best month for sales? How much was earned that month?"
   ]
  },
  {
   "cell_type": "markdown",
   "metadata": {},
   "source": [
    "# Adding sales column "
   ]
  },
  {
   "cell_type": "code",
   "execution_count": null,
   "metadata": {},
   "outputs": [],
   "source": [
    "",
    "",
    "",
    "all_data['Sales'] = all_data['Quantity Ordered'].astype('int') * all_data['Price Each'].astype('float')",
    "",
    "",
    "",
    "",
    "all_data.head()"
   ]
  },
  {
   "cell_type": "code",
   "execution_count": null,
   "metadata": {},
   "outputs": [],
   "source": [
    "all_data.groupby(['Month']).sum()"
   ]
  },
  {
   "cell_type": "markdown",
   "metadata": {},
   "source": [
    "# Visualizing the data for Sales per Month"
   ]
  },
  {
   "cell_type": "code",
   "execution_count": null,
   "metadata": {},
   "outputs": [],
   "source": [
    "",
    "",
    "",
    "months = range(1,13)",
    "",
    "print(months)",
    "",
    "",
    "",
    "",
    "plt.bar(months,all_data.groupby(['Month']).sum()['Sales'])",
    "",
    "plt.xticks(months)",
    "",
    "plt.title('Sales per Month')",
    "",
    "plt.ylabel('Sales (USD$)')",
    "",
    "plt.xlabel('Month')",
    "",
    "plt.show()"
   ]
  },
  {
   "cell_type": "markdown",
   "metadata": {},
   "source": [
    "###### The best month for sales was December where they made a total of $4,613,443.34."
   ]
  },
  {
   "cell_type": "markdown",
   "metadata": {},
   "source": [
    "### What city sold the most product?"
   ]
  },
  {
   "cell_type": "code",
   "execution_count": null,
   "metadata": {},
   "outputs": [],
   "source": [
    "all_data.groupby(['City']).sum()"
   ]
  },
  {
   "cell_type": "markdown",
   "metadata": {},
   "source": [
    "# Visualizing the data for Sales per city"
   ]
  },
  {
   "cell_type": "code",
   "execution_count": null,
   "metadata": {},
   "outputs": [],
   "source": [
    "",
    "",
    "",
    "keys = [city for city, df in all_data.groupby(['City'])]",
    "",
    "",
    "",
    "",
    "plt.bar(keys,all_data.groupby(['City']).sum()['Sales'])",
    "",
    "plt.title('Sales by City')",
    "",
    "plt.ylabel('Sales (USD$)')",
    "",
    "plt.xlabel('City')",
    "",
    "plt.xticks(keys, rotation='vertical', size=8)",
    "",
    "plt.show()"
   ]
  },
  {
   "cell_type": "markdown",
   "metadata": {},
   "source": [
    "###### The city that sold the most products was San Francisco (CA)."
   ]
  },
  {
   "cell_type": "markdown",
   "metadata": {},
   "source": [
    "###  What time should we display advertisements to maximize likelihood of customer's buying product?"
   ]
  },
  {
   "cell_type": "markdown",
   "metadata": {},
   "source": [
    "# Adding time columns"
   ]
  },
  {
   "cell_type": "code",
   "execution_count": null,
   "metadata": {},
   "outputs": [],
   "source": [
    "",
    "",
    "",
    "all_data['Hour'] = pd.to_datetime(all_data['Order Date']).dt.hour",
    "all_data['Minute'] = pd.to_datetime(all_data['Order Date']).dt.minute",
    "all_data['Count'] = 1",
    "",
    "all_data.head()"
   ]
  },
  {
   "cell_type": "markdown",
   "metadata": {},
   "source": [
    "# Using the order time from customers' orders to plot a graph"
   ]
  },
  {
   "cell_type": "code",
   "execution_count": null,
   "metadata": {},
   "outputs": [],
   "source": [
    "",
    "",
    "",
    "keys = [pair for pair, df in all_data.groupby(['Hour'])]",
    "",
    "",
    "",
    "",
    "plt.plot(keys, all_data.groupby(['Hour']).count()['Count'])",
    "",
    "plt.xticks(keys)",
    "",
    "plt.title('Total Orders vs Time of Order')",
    "",
    "plt.ylabel('Total Number of Orders')",
    "",
    "plt.xlabel('Order Time (Hour)')",
    "",
    "plt.grid()",
    "",
    "plt.show()"
   ]
  },
  {
   "cell_type": "markdown",
   "metadata": {},
   "source": [
    "#### The best time for ads to be aired would be 11AM-12PM or around 7PM."
   ]
  },
  {
   "cell_type": "markdown",
   "metadata": {},
   "source": [
    "### What product sold the most? Why do you think it sold the most?"
   ]
  },
  {
   "cell_type": "code",
   "execution_count": null,
   "metadata": {},
   "outputs": [],
   "source": [
    "product_group = all_data.groupby('Product')",
    "",
    "quantity_ordered = product_group.sum()['Quantity Ordered']",
    "",
    "",
    "",
    "keys = [pair for pair, df in product_group]"
   ]
  },
  {
   "cell_type": "code",
   "execution_count": null,
   "metadata": {},
   "outputs": [],
   "source": [
    "plt.bar(keys, quantity_ordered)",
    "",
    "plt.xticks(keys, rotation='vertical', size=10)",
    "",
    "plt.title('Total Number of Products Sold')",
    "",
    "plt.ylabel('Quantity Ordered')",
    "",
    "plt.xlabel('Product')",
    "",
    "plt.show()"
   ]
  },
  {
   "cell_type": "markdown",
   "metadata": {},
   "source": [
    "#### The product sold the most were AAA Batteries. This may be due to a lot of electronics using them as a power source and its cost in comparison to the other items."
   ]
  },
  {
   "cell_type": "markdown",
   "metadata": {},
   "source": [
    "# Comparing cost of items to the quantity sold."
   ]
  },
  {
   "cell_type": "code",
   "execution_count": null,
   "metadata": {},
   "outputs": [],
   "source": [
    "",
    "",
    "",
    "prices = all_data.groupby('Product').mean()['Price Each']"
   ]
  },
  {
   "cell_type": "code",
   "execution_count": null,
   "metadata": {},
   "outputs": [],
   "source": [
    "fig, ax1 = plt.subplots()",
    "",
    "",
    "",
    "",
    "ax2 = ax1.twinx()",
    "",
    "ax1.bar(keys, quantity_ordered, color='g')",
    "",
    "ax2.plot(keys, prices, color='b')",
    "",
    "",
    "",
    "ax1.set_xlabel('Product Name')",
    "",
    "ax1.set_ylabel('Quantity Ordered', color='g')",
    "",
    "ax2.set_ylabel('Price (USD$)', color='b')",
    "",
    "ax1.set_xticklabels(keys, rotation='vertical', size=8)",
    "",
    "",
    "",
    "",
    "fig.show()"
   ]
  }
 ],
 "metadata": {
  "kernelspec": {
   "display_name": "Python 3",
   "language": "python",
   "name": "python3"
  },
  "language_info": {
   "codemirror_mode": {
    "name": "ipython",
    "version": 3
   },
   "file_extension": ".py",
   "mimetype": "text/x-python",
   "name": "python",
   "nbconvert_exporter": "python",
   "pygments_lexer": "ipython3",
   "version": "3.12.0"
  }
 },
 "nbformat": 4,
 "nbformat_minor": 5
}
